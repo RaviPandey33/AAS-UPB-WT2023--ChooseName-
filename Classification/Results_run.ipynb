{
 "cells": [
  {
   "cell_type": "markdown",
   "metadata": {},
   "source": [
    "# Importing required packages :"
   ]
  },
  {
   "cell_type": "code",
   "execution_count": 17,
   "metadata": {},
   "outputs": [],
   "source": [
    "import pandas as pd\n",
    "from sklearn.ensemble import RandomForestClassifier\n",
    "from sklearn.svm import SVC\n",
    "from sklearn.model_selection import LeaveOneOut\n",
    "from sklearn.metrics import accuracy_score, recall_score, f1_score, classification_report, confusion_matrix\n",
    "from xgboost import XGBClassifier\n",
    "from sklearn.preprocessing import LabelEncoder\n",
    "from sklearn.model_selection import train_test_split\n",
    "from sklearn.feature_selection import SequentialFeatureSelector\n",
    "from sklearn.model_selection import StratifiedKFold\n",
    "import numpy as np\n"
   ]
  },
  {
   "cell_type": "markdown",
   "metadata": {},
   "source": [
    "# Importing the required modules created :\n",
    "\n",
    "1. Feature_Classification_NormalValidation.py : In this module, we have used Normal validation, 80-20 test-train split.\n",
    "2. Feature_Classification_LeaveOneValidation.py : In this module, we have used Leave One Out Validation.\n",
    "3. Feature_Selection : We use SequentialFeatureSelector to select the best feature and test the accuracy. \n"
   ]
  },
  {
   "cell_type": "markdown",
   "metadata": {},
   "source": [
    "# Data Set :\n",
    "\n",
    "1. ELA_Data : Not-Normalized features. There are Features other than ELA features too.\n",
    "2. nELA_Data : Normalized features. There are Features other than ELA features too.\n",
    "3. ERT_Data : Effective runtimes of all the algorithms."
   ]
  },
  {
   "cell_type": "code",
   "execution_count": 18,
   "metadata": {},
   "outputs": [],
   "source": [
    "nELA_Data = pd.read_csv('n_median_features.csv')\n",
    "ELA_Data = pd.read_csv('median_features.csv')\n",
    "ERT_Data = pd.read_csv('rel_ERT.csv')"
   ]
  },
  {
   "cell_type": "code",
   "execution_count": 19,
   "metadata": {},
   "outputs": [],
   "source": [
    "from Features_Classification_NormalValidation import ClassifierTrainer_NV\n",
    "from Features_Classification_LeaveOneValidation import ClassifierTrainer_LeaveOneValidation\n",
    "from Features_Selection import ClassifierTrainer_with_Feature_Selection"
   ]
  },
  {
   "cell_type": "markdown",
   "metadata": {},
   "source": [
    "# Target Values :"
   ]
  },
  {
   "cell_type": "code",
   "execution_count": 20,
   "metadata": {},
   "outputs": [],
   "source": [
    "target_column = [\"BSqi\", \"BSrr\", \"CMA-CSA\", \"fmincon\", \"fminunc\", \"HCMA\",\n",
    "                  \"HMLSL\", \"IPOP400D\", \"MCS\", \"MLSL\", \"OQNLP\", \"SMAC-BBOB\"]"
   ]
  },
  {
   "cell_type": "markdown",
   "metadata": {},
   "source": [
    "# Results :"
   ]
  },
  {
   "cell_type": "markdown",
   "metadata": {},
   "source": [
    "## Normal Validation : 80-20, train-test split"
   ]
  },
  {
   "cell_type": "code",
   "execution_count": 21,
   "metadata": {},
   "outputs": [
    {
     "name": "stdout",
     "output_type": "stream",
     "text": [
      "For not-normalized features :\n",
      "\n",
      "Mean Accuracy (Random Forest): 0.7\n",
      "              precision    recall  f1-score   support\n",
      "\n",
      "        BSqi       1.00      1.00      1.00         2\n",
      "        BSrr       1.00      1.00      1.00         1\n",
      "     CMA-CSA       1.00      0.50      0.67         2\n",
      "        HCMA       1.00      1.00      1.00         2\n",
      "       HMLSL       1.00      0.50      0.67         4\n",
      "    IPOP400D       0.67      1.00      0.80         2\n",
      "         MCS       0.00      0.00      0.00         0\n",
      "       OQNLP       0.00      0.00      0.00         1\n",
      "   SMAC-BBOB       1.00      0.50      0.67         2\n",
      "     fmincon       0.40      1.00      0.57         2\n",
      "     fminunc       0.50      0.50      0.50         2\n",
      "\n",
      "    accuracy                           0.70        20\n",
      "   macro avg       0.69      0.64      0.62        20\n",
      "weighted avg       0.81      0.70      0.70        20\n",
      "\n",
      "Mean Recall (Random Forest): 0.7\n",
      "Mean F1 Score (Random Forest): 0.7038095238095238\n",
      "Mean Confusion Matrix (Random Forest):\n",
      "[[2. 0. 0. 0. 0. 0. 0. 0. 0. 0. 0. 0.]\n",
      " [0. 1. 0. 0. 0. 0. 0. 0. 0. 0. 0. 0.]\n",
      " [0. 0. 1. 0. 0. 1. 0. 0. 0. 0. 0. 0.]\n",
      " [0. 0. 0. 2. 0. 0. 0. 0. 0. 0. 0. 0.]\n",
      " [0. 0. 0. 0. 2. 0. 0. 0. 0. 0. 2. 0.]\n",
      " [0. 0. 0. 0. 0. 2. 0. 0. 0. 0. 0. 0.]\n",
      " [0. 0. 0. 0. 0. 0. 0. 0. 0. 0. 0. 0.]\n",
      " [0. 0. 0. 0. 0. 0. 0. 0. 0. 0. 0. 0.]\n",
      " [0. 0. 0. 0. 0. 0. 0. 0. 0. 0. 0. 1.]\n",
      " [0. 0. 0. 0. 0. 0. 1. 0. 0. 1. 0. 0.]\n",
      " [0. 0. 0. 0. 0. 0. 0. 0. 0. 0. 2. 0.]\n",
      " [0. 0. 0. 0. 0. 0. 0. 0. 0. 0. 1. 1.]]\n"
     ]
    },
    {
     "name": "stderr",
     "output_type": "stream",
     "text": [
      "/Users/flyboyravi/opt/miniconda3/envs/SeminarAAS/lib/python3.12/site-packages/sklearn/metrics/_classification.py:1497: UndefinedMetricWarning: Precision is ill-defined and being set to 0.0 in labels with no predicted samples. Use `zero_division` parameter to control this behavior.\n",
      "  _warn_prf(average, modifier, f\"{metric.capitalize()} is\", len(result))\n",
      "/Users/flyboyravi/opt/miniconda3/envs/SeminarAAS/lib/python3.12/site-packages/sklearn/metrics/_classification.py:1497: UndefinedMetricWarning: Recall is ill-defined and being set to 0.0 in labels with no true samples. Use `zero_division` parameter to control this behavior.\n",
      "  _warn_prf(average, modifier, f\"{metric.capitalize()} is\", len(result))\n",
      "/Users/flyboyravi/opt/miniconda3/envs/SeminarAAS/lib/python3.12/site-packages/sklearn/metrics/_classification.py:1497: UndefinedMetricWarning: Precision is ill-defined and being set to 0.0 in labels with no predicted samples. Use `zero_division` parameter to control this behavior.\n",
      "  _warn_prf(average, modifier, f\"{metric.capitalize()} is\", len(result))\n",
      "/Users/flyboyravi/opt/miniconda3/envs/SeminarAAS/lib/python3.12/site-packages/sklearn/metrics/_classification.py:1497: UndefinedMetricWarning: Recall is ill-defined and being set to 0.0 in labels with no true samples. Use `zero_division` parameter to control this behavior.\n",
      "  _warn_prf(average, modifier, f\"{metric.capitalize()} is\", len(result))\n",
      "/Users/flyboyravi/opt/miniconda3/envs/SeminarAAS/lib/python3.12/site-packages/sklearn/metrics/_classification.py:1497: UndefinedMetricWarning: Precision is ill-defined and being set to 0.0 in labels with no predicted samples. Use `zero_division` parameter to control this behavior.\n",
      "  _warn_prf(average, modifier, f\"{metric.capitalize()} is\", len(result))\n",
      "/Users/flyboyravi/opt/miniconda3/envs/SeminarAAS/lib/python3.12/site-packages/sklearn/metrics/_classification.py:1497: UndefinedMetricWarning: Recall is ill-defined and being set to 0.0 in labels with no true samples. Use `zero_division` parameter to control this behavior.\n",
      "  _warn_prf(average, modifier, f\"{metric.capitalize()} is\", len(result))\n"
     ]
    },
    {
     "name": "stdout",
     "output_type": "stream",
     "text": [
      "For not-normalized features :\n",
      "\n",
      "Mean Accuracy (XGBoost): 0.85\n",
      "              precision    recall  f1-score   support\n",
      "\n",
      "        BSqi       1.00      0.50      0.67         2\n",
      "        BSrr       0.50      1.00      0.67         1\n",
      "     CMA-CSA       1.00      1.00      1.00         2\n",
      "        HCMA       1.00      1.00      1.00         2\n",
      "       HMLSL       1.00      1.00      1.00         4\n",
      "    IPOP400D       1.00      1.00      1.00         2\n",
      "         MCS       0.00      0.00      0.00         0\n",
      "       OQNLP       0.50      1.00      0.67         1\n",
      "   SMAC-BBOB       1.00      0.50      0.67         2\n",
      "     fmincon       1.00      1.00      1.00         2\n",
      "     fminunc       1.00      0.50      0.67         2\n",
      "\n",
      "    accuracy                           0.85        20\n",
      "   macro avg       0.82      0.77      0.76        20\n",
      "weighted avg       0.95      0.85      0.87        20\n",
      "\n",
      "Mean Recall (XGBoost): 0.85\n",
      "Mean F1 Score (XGBoost): 0.8666666666666666\n",
      "Mean Confusion Matrix (XGBoost):\n",
      "[[1. 1. 0. 0. 0. 0. 0. 0. 0. 0. 0. 0.]\n",
      " [0. 1. 0. 0. 0. 0. 0. 0. 0. 0. 0. 0.]\n",
      " [0. 0. 2. 0. 0. 0. 0. 0. 0. 0. 0. 0.]\n",
      " [0. 0. 0. 2. 0. 0. 0. 0. 0. 0. 0. 0.]\n",
      " [0. 0. 0. 0. 4. 0. 0. 0. 0. 0. 0. 0.]\n",
      " [0. 0. 0. 0. 0. 2. 0. 0. 0. 0. 0. 0.]\n",
      " [0. 0. 0. 0. 0. 0. 0. 0. 0. 0. 0. 0.]\n",
      " [0. 0. 0. 0. 0. 0. 0. 0. 0. 0. 0. 0.]\n",
      " [0. 0. 0. 0. 0. 0. 0. 0. 1. 0. 0. 0.]\n",
      " [0. 0. 0. 0. 0. 0. 1. 0. 0. 1. 0. 0.]\n",
      " [0. 0. 0. 0. 0. 0. 0. 0. 0. 0. 2. 0.]\n",
      " [0. 0. 0. 0. 0. 0. 0. 0. 1. 0. 0. 1.]]\n"
     ]
    },
    {
     "name": "stderr",
     "output_type": "stream",
     "text": [
      "/Users/flyboyravi/opt/miniconda3/envs/SeminarAAS/lib/python3.12/site-packages/sklearn/metrics/_classification.py:1497: UndefinedMetricWarning: Recall is ill-defined and being set to 0.0 in labels with no true samples. Use `zero_division` parameter to control this behavior.\n",
      "  _warn_prf(average, modifier, f\"{metric.capitalize()} is\", len(result))\n",
      "/Users/flyboyravi/opt/miniconda3/envs/SeminarAAS/lib/python3.12/site-packages/sklearn/metrics/_classification.py:1497: UndefinedMetricWarning: Recall is ill-defined and being set to 0.0 in labels with no true samples. Use `zero_division` parameter to control this behavior.\n",
      "  _warn_prf(average, modifier, f\"{metric.capitalize()} is\", len(result))\n",
      "/Users/flyboyravi/opt/miniconda3/envs/SeminarAAS/lib/python3.12/site-packages/sklearn/metrics/_classification.py:1497: UndefinedMetricWarning: Recall is ill-defined and being set to 0.0 in labels with no true samples. Use `zero_division` parameter to control this behavior.\n",
      "  _warn_prf(average, modifier, f\"{metric.capitalize()} is\", len(result))\n"
     ]
    }
   ],
   "source": [
    "\n",
    "trainer = ClassifierTrainer_NV(ELA_Data, ERT_Data, target_column)\n",
    "\n",
    "\"\"\"Train Random Forest\"\"\"\n",
    "# Train the Random Forest classifier\n",
    "trainer.train_random_forest()\n",
    "\n",
    "\"\"\"Train XGBoost\"\"\"\n",
    "# Train the XGBoost classifier\n",
    "trainer.train_xgboost()\n"
   ]
  },
  {
   "cell_type": "code",
   "execution_count": 22,
   "metadata": {},
   "outputs": [
    {
     "data": {
      "text/plain": [
       "' Here we can make predictions using the trained classifiers\\n'"
      ]
     },
     "execution_count": 22,
     "metadata": {},
     "output_type": "execute_result"
    }
   ],
   "source": [
    "\"\"\" Here we can make predictions using the trained classifiers\n",
    "\"\"\"\n",
    "# For example, assuming you have a new data point X_new and you want to use the Random Forest classifier:\n",
    "# predicted_labels_rf = trainer.predict(trainer.rf_classifier, X_new)"
   ]
  },
  {
   "cell_type": "markdown",
   "metadata": {},
   "source": [
    "## Leave one out validation :"
   ]
  },
  {
   "cell_type": "code",
   "execution_count": 23,
   "metadata": {},
   "outputs": [
    {
     "name": "stdout",
     "output_type": "stream",
     "text": [
      "For normalized features :\n",
      "\n",
      "Mean Accuracy (XGBoost): 0.9270833333333334\n",
      "Mean Recall (XGBoost): 0.9270833333333334\n",
      "Mean F1 Score (XGBoost): 0.9270833333333334\n",
      "\n",
      "\n",
      "Mean Confusion Matrix (XGBoost):\n",
      "[[0.05208333 0.01041667 0.         0.         0.         0.\n",
      "  0.         0.         0.         0.         0.         0.        ]\n",
      " [0.01041667 0.05208333 0.         0.         0.         0.\n",
      "  0.         0.         0.         0.         0.         0.        ]\n",
      " [0.         0.         0.07291667 0.         0.         0.\n",
      "  0.         0.         0.         0.         0.         0.        ]\n",
      " [0.         0.         0.         0.14583333 0.         0.\n",
      "  0.         0.         0.         0.         0.         0.        ]\n",
      " [0.         0.         0.         0.01041667 0.09375    0.\n",
      "  0.         0.         0.         0.         0.01041667 0.        ]\n",
      " [0.         0.         0.         0.         0.         0.07291667\n",
      "  0.         0.         0.         0.         0.         0.        ]\n",
      " [0.         0.         0.         0.         0.         0.\n",
      "  0.03125    0.         0.         0.01041667 0.         0.        ]\n",
      " [0.         0.         0.         0.         0.         0.\n",
      "  0.         0.02083333 0.         0.         0.01041667 0.        ]\n",
      " [0.         0.         0.         0.         0.         0.\n",
      "  0.         0.         0.0625     0.         0.         0.        ]\n",
      " [0.         0.         0.         0.         0.         0.\n",
      "  0.         0.         0.         0.05208333 0.         0.        ]\n",
      " [0.         0.         0.         0.         0.         0.\n",
      "  0.         0.         0.         0.         0.21875    0.        ]\n",
      " [0.         0.         0.         0.         0.         0.\n",
      "  0.         0.         0.01041667 0.         0.         0.05208333]]\n"
     ]
    }
   ],
   "source": [
    "trainer = ClassifierTrainer_LeaveOneValidation(ELA_Data, ERT_Data, target_column)\n",
    "\n",
    "# # Train the Random Forest classifier\n",
    "# trainer.train_random_forest()\n",
    "\n",
    "# Train the XGBoost classifier\n",
    "trainer.train_xgboost()\n",
    "\n"
   ]
  },
  {
   "cell_type": "code",
   "execution_count": null,
   "metadata": {},
   "outputs": [],
   "source": [
    "# here we can make predictions using the trained classifiers\n",
    "# For example, assuming you have a new data point X_new and you want to use the Random Forest classifier:\n",
    "# predicted_labels_rf = trainer.predict(trainer.rf_classifier, X_new)"
   ]
  },
  {
   "cell_type": "markdown",
   "metadata": {},
   "source": [
    "## Feature Selection :"
   ]
  },
  {
   "cell_type": "markdown",
   "metadata": {},
   "source": [
    "\n",
    "# List of target values\n",
    "target_column = [\"BSqi\", \"BSrr\", \"CMA-CSA\", \"fmincon\", \"fminunc\", \"HCMA\",\n",
    "                  \"HMLSL\", \"IPOP400D\", \"MCS\", \"MLSL\", \"OQNLP\", \"SMAC-BBOB\"]\n",
    "\n",
    "direction= 'forward'\n",
    "trainer = ClassifierTrainer_with_Feature_Selection(ELA_Data, ERT_Data, target_column, direction)"
   ]
  },
  {
   "cell_type": "code",
   "execution_count": null,
   "metadata": {},
   "outputs": [],
   "source": [
    "directionF = 'forward'\n",
    "directionB = 'backward'\n",
    "\n",
    "trainer = ClassifierTrainer_with_Feature_Selection(ELA_Data, ERT_Data, target_column, directionF)\n",
    "\n",
    "# Train the Random Forest classifier\n",
    "trainer.train_random_forest()\n",
    "\n",
    "# # Train the XGBoost classifier\n",
    "# trainer.train_xgboost()\n"
   ]
  }
 ],
 "metadata": {
  "kernelspec": {
   "display_name": "SeminarAAS",
   "language": "python",
   "name": "python3"
  },
  "language_info": {
   "codemirror_mode": {
    "name": "ipython",
    "version": 3
   },
   "file_extension": ".py",
   "mimetype": "text/x-python",
   "name": "python",
   "nbconvert_exporter": "python",
   "pygments_lexer": "ipython3",
   "version": "3.12.1"
  }
 },
 "nbformat": 4,
 "nbformat_minor": 2
}
