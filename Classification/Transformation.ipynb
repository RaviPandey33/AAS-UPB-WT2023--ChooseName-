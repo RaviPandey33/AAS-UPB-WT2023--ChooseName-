{
 "cells": [
  {
   "cell_type": "code",
   "execution_count": 1,
   "metadata": {},
   "outputs": [
    {
     "name": "stdout",
     "output_type": "stream",
     "text": [
      "Saved to n_median_features.csv\n"
     ]
    }
   ],
   "source": [
    "import pandas as pd\n",
    "import numpy as np\n",
    "\n",
    "# Load the data\n",
    "file_path = 'raw_n_median_features.csv'\n",
    "data = pd.read_csv(file_path)\n",
    "\n",
    "# Replace infinity with 1e-9\n",
    "data.replace([np.inf, -np.inf], 1e-9, inplace=True)\n",
    "\n",
    "# Save the modified data\n",
    "modified_file_path = 'n_median_features.csv'\n",
    "data.to_csv(modified_file_path, index=False)\n",
    "\n",
    "print(f\"Saved to {modified_file_path}\")\n"
   ]
  },
  {
   "cell_type": "code",
   "execution_count": null,
   "metadata": {},
   "outputs": [],
   "source": []
  }
 ],
 "metadata": {
  "kernelspec": {
   "display_name": "SeminarAAS",
   "language": "python",
   "name": "python3"
  },
  "language_info": {
   "codemirror_mode": {
    "name": "ipython",
    "version": 3
   },
   "file_extension": ".py",
   "mimetype": "text/x-python",
   "name": "python",
   "nbconvert_exporter": "python",
   "pygments_lexer": "ipython3",
   "version": "3.12.1"
  }
 },
 "nbformat": 4,
 "nbformat_minor": 2
}
