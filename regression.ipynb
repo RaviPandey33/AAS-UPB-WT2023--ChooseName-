{
 "cells": [
  {
   "cell_type": "code",
   "execution_count": null,
   "id": "82ae5a85-e854-4813-bfac-84d1ece41e6a",
   "metadata": {},
   "outputs": [],
   "source": [
    "import pandas as pd\n",
    "from sklearn.ensemble import RandomForestRegressor\n",
    "from sklearn.metrics import mean_absolute_error, f1_score\n",
    "import numpy as np\n",
    "from sklearn.preprocessing import binarize\n",
    "\n",
    "# Load data from CSV file\n",
    "ert_data = pd.read_csv('rel_ERT.csv')\n",
    "ela_data = pd.read_csv('median_features.csv')\n",
    "\n",
    "# Merge the two datasets on common columns (fid and dim)\n",
    "merged_data = pd.merge(ert_data, ela_data, on=['fid', 'dim'])\n",
    "\n",
    "# Select relevant columns for features and target variables\n",
    "features_columns = [\"fid\", \"dim\", \"iid\", \"ela_meta.lin_simple.adj_r2\", \"ela_meta.lin_simple.intercept\", \"ela_meta.lin_simple.coef.min\", \"ela_meta.lin_simple.coef.max\", \"ela_meta.lin_simple.coef.max_by_min\", \"ela_meta.lin_w_interact.adj_r2\", \"ela_meta.quad_simple.adj_r2\"]\n",
    "target_columns = [\"BSqi\", \"BSrr\", \"CMA-CSA\", \"fmincon\", \"fminunc\", \"HCMA\",\n",
    "                  \"HMLSL\", \"IPOP400D\", \"MCS\", \"MLSL\", \"OQNLP\", \"SMAC-BBOB\"]\n",
    "\n",
    "# Get the unique algorithm identifiers from the 'fid' column\n",
    "algorithms = merged_data['fid'].unique()\n",
    "#result_data = pd.DataFrame(columns=['fid', 'mbse', 'F1Score','Algorithm'])\n",
    "result_data = pd.DataFrame(columns=['fid', 'mbse','Algorithm'])\n",
    "threshold = 0.5\n",
    "for target_column in target_columns:\n",
    "    selected_data = merged_data[features_columns + [target_column]]\n",
    "    for alg1 in algorithms:\n",
    "        # Extract data for the current pair of algorithms\n",
    "        X_pair = selected_data[selected_data['fid'] == alg1][features_columns]\n",
    "        y_pair = selected_data[selected_data['fid'] == alg1][target_column]\n",
    "        if (X_pair.isin([np.inf, -np.inf, np.nan]).any().any()) or (y_pair.isin([np.inf, -np.inf, np.nan]).any().any()):\n",
    "            break\n",
    "        # Fit a linear regression model\n",
    "        model = RandomForestRegressor()\n",
    "        model.fit(X_pair, y_pair)\n",
    "        \n",
    "        # Predict using the model\n",
    "        y_pred = model.predict(X_pair)\n",
    "\n",
    "        # Calculate Mean Squared Error (MSE)\n",
    "        mbse = mean_absolute_error(y_pair, y_pred)\n",
    "        #y_pred_binary = np.where(y_pred >= threshold, 1, 0)\n",
    "\n",
    "        # Calculate F1 Score\n",
    "        #f1 = f1_score(y_pair, y_pred_binary)\n",
    "        # Append the results to a new DataFrame\n",
    "        #result_data = pd.concat([result_data, pd.DataFrame({'fid': [alg1], 'mbse': [mbse],'F1 Score':[f1], 'Algorithm': [target_column]})], ignore_index=True)\n",
    "        result_data = pd.concat([result_data, pd.DataFrame({'fid': [alg1], 'mbse': [mbse], 'Algorithm': [target_column]})], ignore_index=True)\n",
    "\n",
    "result_data.to_csv(\"mbse_data.csv\", encoding='utf-8', index=False)\n"
   ]
  },
  {
   "cell_type": "code",
   "execution_count": null,
   "id": "df88ce56-8a4a-48d1-a671-f7b9bcaf4350",
   "metadata": {},
   "outputs": [],
   "source": []
  },
  {
   "cell_type": "code",
   "execution_count": null,
   "id": "4b505124-62a3-4fa1-98fb-11fc3a444969",
   "metadata": {},
   "outputs": [],
   "source": []
  }
 ],
 "metadata": {
  "kernelspec": {
   "display_name": "Python 3 (ipykernel)",
   "language": "python",
   "name": "python3"
  },
  "language_info": {
   "codemirror_mode": {
    "name": "ipython",
    "version": 3
   },
   "file_extension": ".py",
   "mimetype": "text/x-python",
   "name": "python",
   "nbconvert_exporter": "python",
   "pygments_lexer": "ipython3",
   "version": "3.10.8"
  }
 },
 "nbformat": 4,
 "nbformat_minor": 5
}
