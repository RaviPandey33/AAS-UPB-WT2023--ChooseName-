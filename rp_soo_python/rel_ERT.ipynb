{
 "cells": [
  {
   "cell_type": "code",
   "execution_count": 8,
   "metadata": {},
   "outputs": [],
   "source": [
    "import pandas as pd\n",
    "import numpy as np\n",
    "\n",
    "file_path = 'ert_data.csv'\n",
    "df = pd.read_csv(file_path)\n",
    "\n",
    "algorithms = [\"BSqi\",\"BSrr\",\"CMA-CSA\",\"fmincon\",\"fminunc\",\"HCMA\",\n",
    "                  \"HMLSL\",\"IPOP400D\",\"MCS\",\"MLSL\",\"OQNLP\",\"SMAC-BBOB\"]\n",
    "\n",
    "for i, row in df.iterrows():\n",
    "    smallest_value = row[algorithms].min()\n",
    "    \n",
    "    #filtering for inf values in the row\n",
    "    filtered_row = row[algorithms].replace([np.inf, -np.inf], np.nan)\n",
    "    maximum_value = filtered_row.max()\n",
    "    \n",
    "    for col in algorithms:\n",
    "        if not np.isinf(row[col]):\n",
    "            df.at[i, col] = row[col] / smallest_value\n",
    "        \n",
    "        ## For infinity value \n",
    "        elif np.isinf(row[col]):\n",
    "            df.at[i, col] = maximum_value * 10\n",
    "# Updated the values in a new csv file\n",
    "file_path = 'rel_ERT.csv' \n",
    "df.to_csv(file_path, index=False)"
   ]
  },
  {
   "cell_type": "code",
   "execution_count": null,
   "metadata": {},
   "outputs": [],
   "source": []
  }
 ],
 "metadata": {
  "kernelspec": {
   "display_name": "jax_env",
   "language": "python",
   "name": "python3"
  },
  "language_info": {
   "codemirror_mode": {
    "name": "ipython",
    "version": 3
   },
   "file_extension": ".py",
   "mimetype": "text/x-python",
   "name": "python",
   "nbconvert_exporter": "python",
   "pygments_lexer": "ipython3",
   "version": "3.12.1"
  }
 },
 "nbformat": 4,
 "nbformat_minor": 2
}
