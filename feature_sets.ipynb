{
 "cells": [
  {
   "cell_type": "code",
   "execution_count": 1,
   "id": "36f9dc0d-326b-4e53-be10-2bd707dcfd4d",
   "metadata": {},
   "outputs": [
    {
     "name": "stdout",
     "output_type": "stream",
     "text": [
      "Collecting pflacco\n",
      "  Using cached pflacco-1.2.2-py3-none-any.whl.metadata (12 kB)\n",
      "Collecting numpy~=1.24.3 (from pflacco)\n",
      "  Using cached numpy-1.24.4-cp310-cp310-manylinux_2_17_x86_64.manylinux2014_x86_64.whl.metadata (5.6 kB)\n",
      "Collecting scikit-learn~=1.2.2 (from pflacco)\n",
      "  Using cached scikit_learn-1.2.2-cp310-cp310-manylinux_2_17_x86_64.manylinux2014_x86_64.whl (9.6 MB)\n",
      "Collecting pyDOE~=0.3.8 (from pflacco)\n",
      "  Using cached pyDOE-0.3.8-py3-none-any.whl\n",
      "Collecting scipy~=1.10.1 (from pflacco)\n",
      "  Using cached scipy-1.10.1-cp310-cp310-manylinux_2_17_x86_64.manylinux2014_x86_64.whl (34.4 MB)\n",
      "Collecting pandas<2.1.0,>=1.2.1 (from pflacco)\n",
      "  Using cached pandas-2.0.3-cp310-cp310-manylinux_2_17_x86_64.manylinux2014_x86_64.whl.metadata (18 kB)\n",
      "Collecting numdifftools~=0.9.40 (from pflacco)\n",
      "  Using cached numdifftools-0.9.41-py2.py3-none-any.whl (100 kB)\n",
      "Collecting SALib~=1.4.5 (from pflacco)\n",
      "  Using cached salib-1.4.7-py3-none-any.whl (757 kB)\n",
      "Requirement already satisfied: python-dateutil>=2.8.2 in /opt/conda/lib/python3.10/site-packages (from pandas<2.1.0,>=1.2.1->pflacco) (2.8.2)\n",
      "Requirement already satisfied: pytz>=2020.1 in /opt/conda/lib/python3.10/site-packages (from pandas<2.1.0,>=1.2.1->pflacco) (2022.6)\n",
      "Requirement already satisfied: tzdata>=2022.1 in /opt/conda/lib/python3.10/site-packages (from pandas<2.1.0,>=1.2.1->pflacco) (2023.4)\n",
      "Requirement already satisfied: matplotlib>=3.2.2 in /opt/conda/lib/python3.10/site-packages (from SALib~=1.4.5->pflacco) (3.8.2)\n",
      "Collecting multiprocess (from SALib~=1.4.5->pflacco)\n",
      "  Using cached multiprocess-0.70.15-py310-none-any.whl.metadata (7.2 kB)\n",
      "Requirement already satisfied: joblib>=1.1.1 in /opt/conda/lib/python3.10/site-packages (from scikit-learn~=1.2.2->pflacco) (1.3.2)\n",
      "Requirement already satisfied: threadpoolctl>=2.0.0 in /opt/conda/lib/python3.10/site-packages (from scikit-learn~=1.2.2->pflacco) (3.2.0)\n",
      "Requirement already satisfied: contourpy>=1.0.1 in /opt/conda/lib/python3.10/site-packages (from matplotlib>=3.2.2->SALib~=1.4.5->pflacco) (1.2.0)\n",
      "Requirement already satisfied: cycler>=0.10 in /opt/conda/lib/python3.10/site-packages (from matplotlib>=3.2.2->SALib~=1.4.5->pflacco) (0.12.1)\n",
      "Requirement already satisfied: fonttools>=4.22.0 in /opt/conda/lib/python3.10/site-packages (from matplotlib>=3.2.2->SALib~=1.4.5->pflacco) (4.47.0)\n",
      "Requirement already satisfied: kiwisolver>=1.3.1 in /opt/conda/lib/python3.10/site-packages (from matplotlib>=3.2.2->SALib~=1.4.5->pflacco) (1.4.5)\n",
      "Requirement already satisfied: packaging>=20.0 in /opt/conda/lib/python3.10/site-packages (from matplotlib>=3.2.2->SALib~=1.4.5->pflacco) (21.3)\n",
      "Requirement already satisfied: pillow>=8 in /opt/conda/lib/python3.10/site-packages (from matplotlib>=3.2.2->SALib~=1.4.5->pflacco) (10.0.0)\n",
      "Requirement already satisfied: pyparsing>=2.3.1 in /opt/conda/lib/python3.10/site-packages (from matplotlib>=3.2.2->SALib~=1.4.5->pflacco) (3.0.9)\n",
      "Requirement already satisfied: six>=1.5 in /opt/conda/lib/python3.10/site-packages (from python-dateutil>=2.8.2->pandas<2.1.0,>=1.2.1->pflacco) (1.16.0)\n",
      "Requirement already satisfied: dill>=0.3.7 in /opt/conda/lib/python3.10/site-packages (from multiprocess->SALib~=1.4.5->pflacco) (0.3.7)\n",
      "Using cached pflacco-1.2.2-py3-none-any.whl (41 kB)\n",
      "Using cached numpy-1.24.4-cp310-cp310-manylinux_2_17_x86_64.manylinux2014_x86_64.whl (17.3 MB)\n",
      "Using cached pandas-2.0.3-cp310-cp310-manylinux_2_17_x86_64.manylinux2014_x86_64.whl (12.3 MB)\n",
      "Using cached multiprocess-0.70.15-py310-none-any.whl (134 kB)\n",
      "Installing collected packages: numpy, multiprocess, scipy, pandas, scikit-learn, pyDOE, numdifftools, SALib, pflacco\n",
      "  Attempting uninstall: numpy\n",
      "    Found existing installation: numpy 1.26.2\n",
      "    Uninstalling numpy-1.26.2:\n",
      "      Successfully uninstalled numpy-1.26.2\n",
      "  Attempting uninstall: scipy\n",
      "    Found existing installation: SciPy 1.11.4\n",
      "    Uninstalling SciPy-1.11.4:\n",
      "      Successfully uninstalled SciPy-1.11.4\n",
      "  Attempting uninstall: pandas\n",
      "    Found existing installation: pandas 2.1.4\n",
      "    Uninstalling pandas-2.1.4:\n",
      "      Successfully uninstalled pandas-2.1.4\n",
      "  Attempting uninstall: scikit-learn\n",
      "    Found existing installation: scikit-learn 1.3.2\n",
      "    Uninstalling scikit-learn-1.3.2:\n",
      "      Successfully uninstalled scikit-learn-1.3.2\n",
      "Successfully installed SALib-1.4.7 multiprocess-0.70.15 numdifftools-0.9.41 numpy-1.24.4 pandas-2.0.3 pflacco-1.2.2 pyDOE-0.3.8 scikit-learn-1.2.2 scipy-1.10.1\n",
      "Note: you may need to restart the kernel to use updated packages.\n"
     ]
    }
   ],
   "source": [
    "pip install pflacco"
   ]
  },
  {
   "cell_type": "code",
   "execution_count": 2,
   "id": "064afacb-20f7-476c-a445-804ad64d7472",
   "metadata": {},
   "outputs": [
    {
     "name": "stdout",
     "output_type": "stream",
     "text": [
      "Collecting cocopp\n",
      "  Using cached cocopp-2.6.3-py3-none-any.whl (4.8 MB)\n",
      "Installing collected packages: cocopp\n",
      "Successfully installed cocopp-2.6.3\n",
      "Note: you may need to restart the kernel to use updated packages.\n"
     ]
    }
   ],
   "source": [
    "pip install cocopp"
   ]
  },
  {
   "cell_type": "code",
   "execution_count": 1,
   "id": "fdad8084-d40b-49cd-b403-5a5fe4e89eb0",
   "metadata": {},
   "outputs": [],
   "source": [
    "import cocoex\n",
    "from pflacco.sampling import create_initial_sample\n",
    "from pflacco.classical_ela_features import *\n",
    "import pandas as pd"
   ]
  },
  {
   "cell_type": "code",
   "execution_count": 2,
   "id": "3125aa2c-007b-4e5c-a301-3bd16e7d6c88",
   "metadata": {},
   "outputs": [
    {
     "name": "stdout",
     "output_type": "stream",
     "text": [
      "Suite(\"b'bbob'\", \"b'instances:1-5'\", \"b'function_indices:1-24 dimensions:2,3,5,10'\") with 480 problems in dimensions 2=10\n"
     ]
    }
   ],
   "source": [
    "BBOB2 = cocoex.Suite(\"bbob\", f\"instances:1-5\", f\"function_indices:1-24 dimensions:2,3,5,10\")\n",
    "print(BBOB2)"
   ]
  },
  {
   "cell_type": "code",
   "execution_count": 3,
   "id": "c732f848-0e4a-4e9a-bd13-dbad15e44df6",
   "metadata": {},
   "outputs": [
    {
     "name": "stdout",
     "output_type": "stream",
     "text": [
      "fid:1, dim:2, iid:1\n",
      "(1, 119)\n",
      "fid:1, dim:2, iid:2\n",
      "fid:1, dim:2, iid:3\n",
      "fid:1, dim:2, iid:4\n",
      "fid:1, dim:2, iid:5\n",
      "fid:2, dim:2, iid:1\n",
      "fid:2, dim:2, iid:2\n",
      "fid:2, dim:2, iid:3\n",
      "fid:2, dim:2, iid:4\n",
      "fid:2, dim:2, iid:5\n",
      "fid:3, dim:2, iid:1\n",
      "fid:3, dim:2, iid:2\n",
      "fid:3, dim:2, iid:3\n",
      "fid:3, dim:2, iid:4\n"
     ]
    },
    {
     "name": "stderr",
     "output_type": "stream",
     "text": [
      "/opt/conda/lib/python3.10/site-packages/pflacco/classical_ela_features.py:1347: RuntimeWarning: invalid value encountered in scalar divide\n",
      "  lda_qda = np.array([lda_mmce[i]/qda_mmce[i] for i in range(len(ela_level_quantiles))])\n"
     ]
    },
    {
     "name": "stdout",
     "output_type": "stream",
     "text": [
      "fid:3, dim:2, iid:5\n",
      "fid:4, dim:2, iid:1\n",
      "fid:4, dim:2, iid:2\n",
      "fid:4, dim:2, iid:3\n",
      "fid:4, dim:2, iid:4\n",
      "fid:4, dim:2, iid:5\n",
      "fid:5, dim:2, iid:1\n"
     ]
    },
    {
     "name": "stderr",
     "output_type": "stream",
     "text": [
      "/opt/conda/lib/python3.10/site-packages/pflacco/classical_ela_features.py:1588: RuntimeWarning: divide by zero encountered in scalar divide\n",
      "  'ela_local.best2mean_contr.ratio': (center_fvals.mean() - center_fvals.min())/ (center_fvals.max() - center_fvals.min()),\n"
     ]
    },
    {
     "name": "stdout",
     "output_type": "stream",
     "text": [
      "fid:5, dim:2, iid:2\n"
     ]
    },
    {
     "name": "stderr",
     "output_type": "stream",
     "text": [
      "/opt/conda/lib/python3.10/site-packages/pflacco/classical_ela_features.py:108: RuntimeWarning: divide by zero encountered in scalar divide\n",
      "  quad_simple_cond = quad_model_con_max/quad_model_con_min\n",
      "/opt/conda/lib/python3.10/site-packages/pflacco/classical_ela_features.py:1588: RuntimeWarning: divide by zero encountered in scalar divide\n",
      "  'ela_local.best2mean_contr.ratio': (center_fvals.mean() - center_fvals.min())/ (center_fvals.max() - center_fvals.min()),\n"
     ]
    },
    {
     "name": "stdout",
     "output_type": "stream",
     "text": [
      "fid:5, dim:2, iid:3\n"
     ]
    },
    {
     "name": "stderr",
     "output_type": "stream",
     "text": [
      "/opt/conda/lib/python3.10/site-packages/pflacco/classical_ela_features.py:108: RuntimeWarning: divide by zero encountered in scalar divide\n",
      "  quad_simple_cond = quad_model_con_max/quad_model_con_min\n",
      "/opt/conda/lib/python3.10/site-packages/pflacco/classical_ela_features.py:1588: RuntimeWarning: divide by zero encountered in scalar divide\n",
      "  'ela_local.best2mean_contr.ratio': (center_fvals.mean() - center_fvals.min())/ (center_fvals.max() - center_fvals.min()),\n"
     ]
    },
    {
     "name": "stdout",
     "output_type": "stream",
     "text": [
      "fid:5, dim:2, iid:4\n"
     ]
    },
    {
     "name": "stderr",
     "output_type": "stream",
     "text": [
      "/opt/conda/lib/python3.10/site-packages/pflacco/classical_ela_features.py:108: RuntimeWarning: divide by zero encountered in scalar divide\n",
      "  quad_simple_cond = quad_model_con_max/quad_model_con_min\n",
      "/opt/conda/lib/python3.10/site-packages/pflacco/classical_ela_features.py:1347: RuntimeWarning: invalid value encountered in scalar divide\n",
      "  lda_qda = np.array([lda_mmce[i]/qda_mmce[i] for i in range(len(ela_level_quantiles))])\n",
      "/opt/conda/lib/python3.10/site-packages/pflacco/classical_ela_features.py:1588: RuntimeWarning: divide by zero encountered in scalar divide\n",
      "  'ela_local.best2mean_contr.ratio': (center_fvals.mean() - center_fvals.min())/ (center_fvals.max() - center_fvals.min()),\n"
     ]
    },
    {
     "name": "stdout",
     "output_type": "stream",
     "text": [
      "fid:5, dim:2, iid:5\n"
     ]
    },
    {
     "name": "stderr",
     "output_type": "stream",
     "text": [
      "/opt/conda/lib/python3.10/site-packages/pflacco/classical_ela_features.py:1588: RuntimeWarning: divide by zero encountered in scalar divide\n",
      "  'ela_local.best2mean_contr.ratio': (center_fvals.mean() - center_fvals.min())/ (center_fvals.max() - center_fvals.min()),\n"
     ]
    },
    {
     "name": "stdout",
     "output_type": "stream",
     "text": [
      "fid:6, dim:2, iid:1\n",
      "fid:6, dim:2, iid:2\n",
      "fid:6, dim:2, iid:3\n",
      "fid:6, dim:2, iid:4\n",
      "fid:6, dim:2, iid:5\n",
      "fid:7, dim:2, iid:1\n",
      "fid:7, dim:2, iid:2\n",
      "fid:7, dim:2, iid:3\n"
     ]
    },
    {
     "name": "stderr",
     "output_type": "stream",
     "text": [
      "/opt/conda/lib/python3.10/site-packages/numpy/lib/nanfunctions.py:1872: RuntimeWarning: Degrees of freedom <= 0 for slice.\n",
      "  var = nanvar(a, axis=axis, dtype=dtype, out=out, ddof=ddof,\n"
     ]
    },
    {
     "name": "stdout",
     "output_type": "stream",
     "text": [
      "fid:7, dim:2, iid:4\n",
      "fid:7, dim:2, iid:5\n",
      "fid:8, dim:2, iid:1\n",
      "fid:8, dim:2, iid:2\n",
      "fid:8, dim:2, iid:3\n",
      "fid:8, dim:2, iid:4\n",
      "fid:8, dim:2, iid:5\n",
      "fid:9, dim:2, iid:1\n",
      "fid:9, dim:2, iid:2\n",
      "fid:9, dim:2, iid:3\n",
      "fid:9, dim:2, iid:4\n",
      "fid:9, dim:2, iid:5\n",
      "fid:10, dim:2, iid:1\n",
      "fid:10, dim:2, iid:2\n",
      "fid:10, dim:2, iid:3\n",
      "fid:10, dim:2, iid:4\n",
      "fid:10, dim:2, iid:5\n",
      "fid:11, dim:2, iid:1\n",
      "fid:11, dim:2, iid:2\n",
      "fid:11, dim:2, iid:3\n",
      "fid:11, dim:2, iid:4\n",
      "fid:11, dim:2, iid:5\n",
      "fid:12, dim:2, iid:1\n",
      "fid:12, dim:2, iid:2\n",
      "fid:12, dim:2, iid:3\n",
      "fid:12, dim:2, iid:4\n",
      "fid:12, dim:2, iid:5\n",
      "fid:13, dim:2, iid:1\n",
      "fid:13, dim:2, iid:2\n",
      "fid:13, dim:2, iid:3\n",
      "fid:13, dim:2, iid:4\n",
      "fid:13, dim:2, iid:5\n",
      "fid:14, dim:2, iid:1\n",
      "fid:14, dim:2, iid:2\n",
      "fid:14, dim:2, iid:3\n",
      "fid:14, dim:2, iid:4\n",
      "fid:14, dim:2, iid:5\n",
      "fid:15, dim:2, iid:1\n",
      "fid:15, dim:2, iid:2\n",
      "fid:15, dim:2, iid:3\n",
      "fid:15, dim:2, iid:4\n",
      "fid:15, dim:2, iid:5\n",
      "fid:16, dim:2, iid:1\n",
      "fid:16, dim:2, iid:2\n",
      "fid:16, dim:2, iid:3\n",
      "fid:16, dim:2, iid:4\n",
      "fid:16, dim:2, iid:5\n",
      "fid:17, dim:2, iid:1\n",
      "fid:17, dim:2, iid:2\n",
      "fid:17, dim:2, iid:3\n",
      "fid:17, dim:2, iid:4\n",
      "fid:17, dim:2, iid:5\n",
      "fid:18, dim:2, iid:1\n",
      "fid:18, dim:2, iid:2\n",
      "fid:18, dim:2, iid:3\n",
      "fid:18, dim:2, iid:4\n",
      "fid:18, dim:2, iid:5\n",
      "fid:19, dim:2, iid:1\n",
      "fid:19, dim:2, iid:2\n",
      "fid:19, dim:2, iid:3\n",
      "fid:19, dim:2, iid:4\n",
      "fid:19, dim:2, iid:5\n",
      "fid:20, dim:2, iid:1\n",
      "fid:20, dim:2, iid:2\n",
      "fid:20, dim:2, iid:3\n",
      "fid:20, dim:2, iid:4\n",
      "fid:20, dim:2, iid:5\n",
      "fid:21, dim:2, iid:1\n",
      "fid:21, dim:2, iid:2\n",
      "fid:21, dim:2, iid:3\n",
      "fid:21, dim:2, iid:4\n",
      "fid:21, dim:2, iid:5\n",
      "fid:22, dim:2, iid:1\n",
      "fid:22, dim:2, iid:2\n",
      "fid:22, dim:2, iid:3\n",
      "fid:22, dim:2, iid:4\n",
      "fid:22, dim:2, iid:5\n",
      "fid:23, dim:2, iid:1\n",
      "fid:23, dim:2, iid:2\n",
      "fid:23, dim:2, iid:3\n",
      "fid:23, dim:2, iid:4\n",
      "fid:23, dim:2, iid:5\n",
      "fid:24, dim:2, iid:1\n",
      "fid:24, dim:2, iid:2\n",
      "fid:24, dim:2, iid:3\n",
      "fid:24, dim:2, iid:4\n",
      "fid:24, dim:2, iid:5\n",
      "fid:1, dim:3, iid:1\n",
      "fid:1, dim:3, iid:2\n",
      "fid:1, dim:3, iid:3\n",
      "fid:1, dim:3, iid:4\n",
      "fid:1, dim:3, iid:5\n",
      "fid:2, dim:3, iid:1\n",
      "fid:2, dim:3, iid:2\n",
      "fid:2, dim:3, iid:3\n",
      "fid:2, dim:3, iid:4\n",
      "fid:2, dim:3, iid:5\n",
      "fid:3, dim:3, iid:1\n",
      "fid:3, dim:3, iid:2\n",
      "fid:3, dim:3, iid:3\n",
      "fid:3, dim:3, iid:4\n",
      "fid:3, dim:3, iid:5\n",
      "fid:4, dim:3, iid:1\n",
      "fid:4, dim:3, iid:2\n",
      "fid:4, dim:3, iid:3\n",
      "fid:4, dim:3, iid:4\n",
      "fid:4, dim:3, iid:5\n",
      "fid:5, dim:3, iid:1\n"
     ]
    },
    {
     "name": "stderr",
     "output_type": "stream",
     "text": [
      "/opt/conda/lib/python3.10/site-packages/pflacco/classical_ela_features.py:1588: RuntimeWarning: divide by zero encountered in scalar divide\n",
      "  'ela_local.best2mean_contr.ratio': (center_fvals.mean() - center_fvals.min())/ (center_fvals.max() - center_fvals.min()),\n"
     ]
    },
    {
     "name": "stdout",
     "output_type": "stream",
     "text": [
      "fid:5, dim:3, iid:2\n"
     ]
    },
    {
     "name": "stderr",
     "output_type": "stream",
     "text": [
      "/opt/conda/lib/python3.10/site-packages/pflacco/classical_ela_features.py:1588: RuntimeWarning: divide by zero encountered in scalar divide\n",
      "  'ela_local.best2mean_contr.ratio': (center_fvals.mean() - center_fvals.min())/ (center_fvals.max() - center_fvals.min()),\n"
     ]
    },
    {
     "name": "stdout",
     "output_type": "stream",
     "text": [
      "fid:5, dim:3, iid:3\n"
     ]
    },
    {
     "name": "stderr",
     "output_type": "stream",
     "text": [
      "/opt/conda/lib/python3.10/site-packages/pflacco/classical_ela_features.py:1588: RuntimeWarning: invalid value encountered in scalar divide\n",
      "  'ela_local.best2mean_contr.ratio': (center_fvals.mean() - center_fvals.min())/ (center_fvals.max() - center_fvals.min()),\n"
     ]
    },
    {
     "name": "stdout",
     "output_type": "stream",
     "text": [
      "fid:5, dim:3, iid:4\n"
     ]
    },
    {
     "name": "stderr",
     "output_type": "stream",
     "text": [
      "/opt/conda/lib/python3.10/site-packages/pflacco/classical_ela_features.py:1588: RuntimeWarning: divide by zero encountered in scalar divide\n",
      "  'ela_local.best2mean_contr.ratio': (center_fvals.mean() - center_fvals.min())/ (center_fvals.max() - center_fvals.min()),\n"
     ]
    },
    {
     "name": "stdout",
     "output_type": "stream",
     "text": [
      "fid:5, dim:3, iid:5\n"
     ]
    },
    {
     "name": "stderr",
     "output_type": "stream",
     "text": [
      "/opt/conda/lib/python3.10/site-packages/pflacco/classical_ela_features.py:1588: RuntimeWarning: divide by zero encountered in scalar divide\n",
      "  'ela_local.best2mean_contr.ratio': (center_fvals.mean() - center_fvals.min())/ (center_fvals.max() - center_fvals.min()),\n"
     ]
    },
    {
     "name": "stdout",
     "output_type": "stream",
     "text": [
      "fid:6, dim:3, iid:1\n",
      "fid:6, dim:3, iid:2\n",
      "fid:6, dim:3, iid:3\n",
      "fid:6, dim:3, iid:4\n",
      "fid:6, dim:3, iid:5\n",
      "fid:7, dim:3, iid:1\n",
      "fid:7, dim:3, iid:2\n",
      "fid:7, dim:3, iid:3\n",
      "fid:7, dim:3, iid:4\n",
      "fid:7, dim:3, iid:5\n",
      "fid:8, dim:3, iid:1\n",
      "fid:8, dim:3, iid:2\n",
      "fid:8, dim:3, iid:3\n",
      "fid:8, dim:3, iid:4\n",
      "fid:8, dim:3, iid:5\n",
      "fid:9, dim:3, iid:1\n",
      "fid:9, dim:3, iid:2\n",
      "fid:9, dim:3, iid:3\n",
      "fid:9, dim:3, iid:4\n",
      "fid:9, dim:3, iid:5\n",
      "fid:10, dim:3, iid:1\n",
      "fid:10, dim:3, iid:2\n",
      "fid:10, dim:3, iid:3\n",
      "fid:10, dim:3, iid:4\n",
      "fid:10, dim:3, iid:5\n",
      "fid:11, dim:3, iid:1\n",
      "fid:11, dim:3, iid:2\n",
      "fid:11, dim:3, iid:3\n",
      "fid:11, dim:3, iid:4\n",
      "fid:11, dim:3, iid:5\n",
      "fid:12, dim:3, iid:1\n",
      "fid:12, dim:3, iid:2\n",
      "fid:12, dim:3, iid:3\n",
      "fid:12, dim:3, iid:4\n",
      "fid:12, dim:3, iid:5\n",
      "fid:13, dim:3, iid:1\n",
      "fid:13, dim:3, iid:2\n",
      "fid:13, dim:3, iid:3\n",
      "fid:13, dim:3, iid:4\n",
      "fid:13, dim:3, iid:5\n",
      "fid:14, dim:3, iid:1\n",
      "fid:14, dim:3, iid:2\n",
      "fid:14, dim:3, iid:3\n",
      "fid:14, dim:3, iid:4\n",
      "fid:14, dim:3, iid:5\n",
      "fid:15, dim:3, iid:1\n",
      "fid:15, dim:3, iid:2\n",
      "fid:15, dim:3, iid:3\n",
      "fid:15, dim:3, iid:4\n",
      "fid:15, dim:3, iid:5\n",
      "fid:16, dim:3, iid:1\n",
      "fid:16, dim:3, iid:2\n",
      "fid:16, dim:3, iid:3\n",
      "fid:16, dim:3, iid:4\n",
      "fid:16, dim:3, iid:5\n",
      "fid:17, dim:3, iid:1\n",
      "fid:17, dim:3, iid:2\n",
      "fid:17, dim:3, iid:3\n",
      "fid:17, dim:3, iid:4\n",
      "fid:17, dim:3, iid:5\n",
      "fid:18, dim:3, iid:1\n",
      "fid:18, dim:3, iid:2\n",
      "fid:18, dim:3, iid:3\n",
      "fid:18, dim:3, iid:4\n",
      "fid:18, dim:3, iid:5\n",
      "fid:19, dim:3, iid:1\n",
      "fid:19, dim:3, iid:2\n",
      "fid:19, dim:3, iid:3\n",
      "fid:19, dim:3, iid:4\n",
      "fid:19, dim:3, iid:5\n",
      "fid:20, dim:3, iid:1\n",
      "fid:20, dim:3, iid:2\n",
      "fid:20, dim:3, iid:3\n",
      "fid:20, dim:3, iid:4\n",
      "fid:20, dim:3, iid:5\n",
      "fid:21, dim:3, iid:1\n",
      "fid:21, dim:3, iid:2\n",
      "fid:21, dim:3, iid:3\n",
      "fid:21, dim:3, iid:4\n",
      "fid:21, dim:3, iid:5\n",
      "fid:22, dim:3, iid:1\n",
      "fid:22, dim:3, iid:2\n",
      "fid:22, dim:3, iid:3\n",
      "fid:22, dim:3, iid:4\n",
      "fid:22, dim:3, iid:5\n",
      "fid:23, dim:3, iid:1\n",
      "fid:23, dim:3, iid:2\n",
      "fid:23, dim:3, iid:3\n",
      "fid:23, dim:3, iid:4\n",
      "fid:23, dim:3, iid:5\n",
      "fid:24, dim:3, iid:1\n",
      "fid:24, dim:3, iid:2\n",
      "fid:24, dim:3, iid:3\n",
      "fid:24, dim:3, iid:4\n",
      "fid:24, dim:3, iid:5\n",
      "fid:1, dim:5, iid:1\n",
      "fid:1, dim:5, iid:2\n",
      "fid:1, dim:5, iid:3\n",
      "fid:1, dim:5, iid:4\n",
      "fid:1, dim:5, iid:5\n",
      "fid:2, dim:5, iid:1\n",
      "fid:2, dim:5, iid:2\n",
      "fid:2, dim:5, iid:3\n",
      "fid:2, dim:5, iid:4\n",
      "fid:2, dim:5, iid:5\n",
      "fid:3, dim:5, iid:1\n",
      "fid:3, dim:5, iid:2\n",
      "fid:3, dim:5, iid:3\n",
      "fid:3, dim:5, iid:4\n",
      "fid:3, dim:5, iid:5\n",
      "fid:4, dim:5, iid:1\n",
      "fid:4, dim:5, iid:2\n",
      "fid:4, dim:5, iid:3\n",
      "fid:4, dim:5, iid:4\n",
      "fid:4, dim:5, iid:5\n",
      "fid:5, dim:5, iid:1\n"
     ]
    },
    {
     "name": "stderr",
     "output_type": "stream",
     "text": [
      "/opt/conda/lib/python3.10/site-packages/pflacco/classical_ela_features.py:1588: RuntimeWarning: divide by zero encountered in scalar divide\n",
      "  'ela_local.best2mean_contr.ratio': (center_fvals.mean() - center_fvals.min())/ (center_fvals.max() - center_fvals.min()),\n"
     ]
    },
    {
     "name": "stdout",
     "output_type": "stream",
     "text": [
      "fid:5, dim:5, iid:2\n"
     ]
    },
    {
     "name": "stderr",
     "output_type": "stream",
     "text": [
      "/opt/conda/lib/python3.10/site-packages/pflacco/classical_ela_features.py:1588: RuntimeWarning: divide by zero encountered in scalar divide\n",
      "  'ela_local.best2mean_contr.ratio': (center_fvals.mean() - center_fvals.min())/ (center_fvals.max() - center_fvals.min()),\n"
     ]
    },
    {
     "name": "stdout",
     "output_type": "stream",
     "text": [
      "fid:5, dim:5, iid:3\n"
     ]
    },
    {
     "name": "stderr",
     "output_type": "stream",
     "text": [
      "/opt/conda/lib/python3.10/site-packages/pflacco/classical_ela_features.py:108: RuntimeWarning: divide by zero encountered in scalar divide\n",
      "  quad_simple_cond = quad_model_con_max/quad_model_con_min\n",
      "/opt/conda/lib/python3.10/site-packages/pflacco/classical_ela_features.py:1588: RuntimeWarning: invalid value encountered in scalar divide\n",
      "  'ela_local.best2mean_contr.ratio': (center_fvals.mean() - center_fvals.min())/ (center_fvals.max() - center_fvals.min()),\n"
     ]
    },
    {
     "name": "stdout",
     "output_type": "stream",
     "text": [
      "fid:5, dim:5, iid:4\n"
     ]
    },
    {
     "name": "stderr",
     "output_type": "stream",
     "text": [
      "/opt/conda/lib/python3.10/site-packages/pflacco/classical_ela_features.py:1588: RuntimeWarning: invalid value encountered in scalar divide\n",
      "  'ela_local.best2mean_contr.ratio': (center_fvals.mean() - center_fvals.min())/ (center_fvals.max() - center_fvals.min()),\n"
     ]
    },
    {
     "name": "stdout",
     "output_type": "stream",
     "text": [
      "fid:5, dim:5, iid:5\n"
     ]
    },
    {
     "name": "stderr",
     "output_type": "stream",
     "text": [
      "/opt/conda/lib/python3.10/site-packages/pflacco/classical_ela_features.py:1588: RuntimeWarning: invalid value encountered in scalar divide\n",
      "  'ela_local.best2mean_contr.ratio': (center_fvals.mean() - center_fvals.min())/ (center_fvals.max() - center_fvals.min()),\n"
     ]
    },
    {
     "name": "stdout",
     "output_type": "stream",
     "text": [
      "fid:6, dim:5, iid:1\n",
      "fid:6, dim:5, iid:2\n",
      "fid:6, dim:5, iid:3\n",
      "fid:6, dim:5, iid:4\n",
      "fid:6, dim:5, iid:5\n",
      "fid:7, dim:5, iid:1\n",
      "fid:7, dim:5, iid:2\n",
      "fid:7, dim:5, iid:3\n",
      "fid:7, dim:5, iid:4\n",
      "fid:7, dim:5, iid:5\n",
      "fid:8, dim:5, iid:1\n",
      "fid:8, dim:5, iid:2\n",
      "fid:8, dim:5, iid:3\n",
      "fid:8, dim:5, iid:4\n",
      "fid:8, dim:5, iid:5\n",
      "fid:9, dim:5, iid:1\n",
      "fid:9, dim:5, iid:2\n",
      "fid:9, dim:5, iid:3\n",
      "fid:9, dim:5, iid:4\n",
      "fid:9, dim:5, iid:5\n",
      "fid:10, dim:5, iid:1\n",
      "fid:10, dim:5, iid:2\n",
      "fid:10, dim:5, iid:3\n",
      "fid:10, dim:5, iid:4\n",
      "fid:10, dim:5, iid:5\n",
      "fid:11, dim:5, iid:1\n",
      "fid:11, dim:5, iid:2\n",
      "fid:11, dim:5, iid:3\n",
      "fid:11, dim:5, iid:4\n",
      "fid:11, dim:5, iid:5\n",
      "fid:12, dim:5, iid:1\n",
      "fid:12, dim:5, iid:2\n",
      "fid:12, dim:5, iid:3\n",
      "fid:12, dim:5, iid:4\n",
      "fid:12, dim:5, iid:5\n",
      "fid:13, dim:5, iid:1\n",
      "fid:13, dim:5, iid:2\n",
      "fid:13, dim:5, iid:3\n",
      "fid:13, dim:5, iid:4\n",
      "fid:13, dim:5, iid:5\n",
      "fid:14, dim:5, iid:1\n",
      "fid:14, dim:5, iid:2\n",
      "fid:14, dim:5, iid:3\n",
      "fid:14, dim:5, iid:4\n",
      "fid:14, dim:5, iid:5\n",
      "fid:15, dim:5, iid:1\n",
      "fid:15, dim:5, iid:2\n",
      "fid:15, dim:5, iid:3\n",
      "fid:15, dim:5, iid:4\n",
      "fid:15, dim:5, iid:5\n",
      "fid:16, dim:5, iid:1\n",
      "fid:16, dim:5, iid:2\n",
      "fid:16, dim:5, iid:3\n",
      "fid:16, dim:5, iid:4\n",
      "fid:16, dim:5, iid:5\n",
      "fid:17, dim:5, iid:1\n",
      "fid:17, dim:5, iid:2\n",
      "fid:17, dim:5, iid:3\n",
      "fid:17, dim:5, iid:4\n",
      "fid:17, dim:5, iid:5\n",
      "fid:18, dim:5, iid:1\n",
      "fid:18, dim:5, iid:2\n",
      "fid:18, dim:5, iid:3\n",
      "fid:18, dim:5, iid:4\n",
      "fid:18, dim:5, iid:5\n",
      "fid:19, dim:5, iid:1\n",
      "fid:19, dim:5, iid:2\n",
      "fid:19, dim:5, iid:3\n",
      "fid:19, dim:5, iid:4\n",
      "fid:19, dim:5, iid:5\n",
      "fid:20, dim:5, iid:1\n",
      "fid:20, dim:5, iid:2\n",
      "fid:20, dim:5, iid:3\n",
      "fid:20, dim:5, iid:4\n",
      "fid:20, dim:5, iid:5\n",
      "fid:21, dim:5, iid:1\n",
      "fid:21, dim:5, iid:2\n",
      "fid:21, dim:5, iid:3\n",
      "fid:21, dim:5, iid:4\n",
      "fid:21, dim:5, iid:5\n",
      "fid:22, dim:5, iid:1\n",
      "fid:22, dim:5, iid:2\n",
      "fid:22, dim:5, iid:3\n",
      "fid:22, dim:5, iid:4\n",
      "fid:22, dim:5, iid:5\n",
      "fid:23, dim:5, iid:1\n",
      "fid:23, dim:5, iid:2\n",
      "fid:23, dim:5, iid:3\n",
      "fid:23, dim:5, iid:4\n",
      "fid:23, dim:5, iid:5\n",
      "fid:24, dim:5, iid:1\n",
      "fid:24, dim:5, iid:2\n",
      "fid:24, dim:5, iid:3\n",
      "fid:24, dim:5, iid:4\n",
      "fid:24, dim:5, iid:5\n",
      "fid:1, dim:10, iid:1\n",
      "fid:1, dim:10, iid:2\n",
      "fid:1, dim:10, iid:3\n",
      "fid:1, dim:10, iid:4\n",
      "fid:1, dim:10, iid:5\n",
      "fid:2, dim:10, iid:1\n",
      "fid:2, dim:10, iid:2\n",
      "fid:2, dim:10, iid:3\n",
      "fid:2, dim:10, iid:4\n",
      "fid:2, dim:10, iid:5\n",
      "fid:3, dim:10, iid:1\n",
      "fid:3, dim:10, iid:2\n",
      "fid:3, dim:10, iid:3\n",
      "fid:3, dim:10, iid:4\n",
      "fid:3, dim:10, iid:5\n",
      "fid:4, dim:10, iid:1\n",
      "fid:4, dim:10, iid:2\n",
      "fid:4, dim:10, iid:3\n",
      "fid:4, dim:10, iid:4\n",
      "fid:4, dim:10, iid:5\n",
      "fid:5, dim:10, iid:1\n"
     ]
    },
    {
     "name": "stderr",
     "output_type": "stream",
     "text": [
      "/opt/conda/lib/python3.10/site-packages/pflacco/classical_ela_features.py:1588: RuntimeWarning: divide by zero encountered in scalar divide\n",
      "  'ela_local.best2mean_contr.ratio': (center_fvals.mean() - center_fvals.min())/ (center_fvals.max() - center_fvals.min()),\n"
     ]
    },
    {
     "name": "stdout",
     "output_type": "stream",
     "text": [
      "fid:5, dim:10, iid:2\n"
     ]
    },
    {
     "name": "stderr",
     "output_type": "stream",
     "text": [
      "/opt/conda/lib/python3.10/site-packages/pflacco/classical_ela_features.py:108: RuntimeWarning: divide by zero encountered in scalar divide\n",
      "  quad_simple_cond = quad_model_con_max/quad_model_con_min\n",
      "/opt/conda/lib/python3.10/site-packages/pflacco/classical_ela_features.py:1588: RuntimeWarning: divide by zero encountered in scalar divide\n",
      "  'ela_local.best2mean_contr.ratio': (center_fvals.mean() - center_fvals.min())/ (center_fvals.max() - center_fvals.min()),\n"
     ]
    },
    {
     "name": "stdout",
     "output_type": "stream",
     "text": [
      "fid:5, dim:10, iid:3\n"
     ]
    },
    {
     "name": "stderr",
     "output_type": "stream",
     "text": [
      "/opt/conda/lib/python3.10/site-packages/pflacco/classical_ela_features.py:1588: RuntimeWarning: invalid value encountered in scalar divide\n",
      "  'ela_local.best2mean_contr.ratio': (center_fvals.mean() - center_fvals.min())/ (center_fvals.max() - center_fvals.min()),\n"
     ]
    },
    {
     "name": "stdout",
     "output_type": "stream",
     "text": [
      "fid:5, dim:10, iid:4\n"
     ]
    },
    {
     "name": "stderr",
     "output_type": "stream",
     "text": [
      "/opt/conda/lib/python3.10/site-packages/pflacco/classical_ela_features.py:1588: RuntimeWarning: divide by zero encountered in scalar divide\n",
      "  'ela_local.best2mean_contr.ratio': (center_fvals.mean() - center_fvals.min())/ (center_fvals.max() - center_fvals.min()),\n"
     ]
    },
    {
     "name": "stdout",
     "output_type": "stream",
     "text": [
      "fid:5, dim:10, iid:5\n"
     ]
    },
    {
     "name": "stderr",
     "output_type": "stream",
     "text": [
      "/opt/conda/lib/python3.10/site-packages/pflacco/classical_ela_features.py:1588: RuntimeWarning: invalid value encountered in scalar divide\n",
      "  'ela_local.best2mean_contr.ratio': (center_fvals.mean() - center_fvals.min())/ (center_fvals.max() - center_fvals.min()),\n"
     ]
    },
    {
     "name": "stdout",
     "output_type": "stream",
     "text": [
      "fid:6, dim:10, iid:1\n",
      "fid:6, dim:10, iid:2\n",
      "fid:6, dim:10, iid:3\n",
      "fid:6, dim:10, iid:4\n",
      "fid:6, dim:10, iid:5\n",
      "fid:7, dim:10, iid:1\n",
      "fid:7, dim:10, iid:2\n",
      "fid:7, dim:10, iid:3\n",
      "fid:7, dim:10, iid:4\n",
      "fid:7, dim:10, iid:5\n",
      "fid:8, dim:10, iid:1\n",
      "fid:8, dim:10, iid:2\n",
      "fid:8, dim:10, iid:3\n",
      "fid:8, dim:10, iid:4\n",
      "fid:8, dim:10, iid:5\n",
      "fid:9, dim:10, iid:1\n",
      "fid:9, dim:10, iid:2\n",
      "fid:9, dim:10, iid:3\n",
      "fid:9, dim:10, iid:4\n",
      "fid:9, dim:10, iid:5\n",
      "fid:10, dim:10, iid:1\n",
      "fid:10, dim:10, iid:2\n",
      "fid:10, dim:10, iid:3\n",
      "fid:10, dim:10, iid:4\n",
      "fid:10, dim:10, iid:5\n",
      "fid:11, dim:10, iid:1\n",
      "fid:11, dim:10, iid:2\n",
      "fid:11, dim:10, iid:3\n",
      "fid:11, dim:10, iid:4\n",
      "fid:11, dim:10, iid:5\n",
      "fid:12, dim:10, iid:1\n",
      "fid:12, dim:10, iid:2\n",
      "fid:12, dim:10, iid:3\n",
      "fid:12, dim:10, iid:4\n",
      "fid:12, dim:10, iid:5\n",
      "fid:13, dim:10, iid:1\n",
      "fid:13, dim:10, iid:2\n",
      "fid:13, dim:10, iid:3\n",
      "fid:13, dim:10, iid:4\n",
      "fid:13, dim:10, iid:5\n",
      "fid:14, dim:10, iid:1\n",
      "fid:14, dim:10, iid:2\n",
      "fid:14, dim:10, iid:3\n",
      "fid:14, dim:10, iid:4\n",
      "fid:14, dim:10, iid:5\n",
      "fid:15, dim:10, iid:1\n",
      "fid:15, dim:10, iid:2\n",
      "fid:15, dim:10, iid:3\n",
      "fid:15, dim:10, iid:4\n",
      "fid:15, dim:10, iid:5\n",
      "fid:16, dim:10, iid:1\n",
      "fid:16, dim:10, iid:2\n",
      "fid:16, dim:10, iid:3\n",
      "fid:16, dim:10, iid:4\n",
      "fid:16, dim:10, iid:5\n",
      "fid:17, dim:10, iid:1\n",
      "fid:17, dim:10, iid:2\n",
      "fid:17, dim:10, iid:3\n",
      "fid:17, dim:10, iid:4\n",
      "fid:17, dim:10, iid:5\n",
      "fid:18, dim:10, iid:1\n",
      "fid:18, dim:10, iid:2\n",
      "fid:18, dim:10, iid:3\n",
      "fid:18, dim:10, iid:4\n",
      "fid:18, dim:10, iid:5\n",
      "fid:19, dim:10, iid:1\n",
      "fid:19, dim:10, iid:2\n",
      "fid:19, dim:10, iid:3\n",
      "fid:19, dim:10, iid:4\n",
      "fid:19, dim:10, iid:5\n",
      "fid:20, dim:10, iid:1\n",
      "fid:20, dim:10, iid:2\n",
      "fid:20, dim:10, iid:3\n",
      "fid:20, dim:10, iid:4\n",
      "fid:20, dim:10, iid:5\n",
      "fid:21, dim:10, iid:1\n",
      "fid:21, dim:10, iid:2\n",
      "fid:21, dim:10, iid:3\n",
      "fid:21, dim:10, iid:4\n",
      "fid:21, dim:10, iid:5\n",
      "fid:22, dim:10, iid:1\n",
      "fid:22, dim:10, iid:2\n",
      "fid:22, dim:10, iid:3\n",
      "fid:22, dim:10, iid:4\n",
      "fid:22, dim:10, iid:5\n",
      "fid:23, dim:10, iid:1\n",
      "fid:23, dim:10, iid:2\n",
      "fid:23, dim:10, iid:3\n",
      "fid:23, dim:10, iid:4\n",
      "fid:23, dim:10, iid:5\n",
      "fid:24, dim:10, iid:1\n",
      "fid:24, dim:10, iid:2\n",
      "fid:24, dim:10, iid:3\n",
      "fid:24, dim:10, iid:4\n",
      "fid:24, dim:10, iid:5\n",
      "Final row count of DataFrame: 480\n"
     ]
    }
   ],
   "source": [
    "\n",
    "features = []\n",
    "\n",
    "for problem in BBOB2:\n",
    "    dim = problem.dimension\n",
    "    fid = problem.id_function\n",
    "    iid = problem.id_instance\n",
    "\n",
    "    print(f\"fid:{fid}, dim:{dim}, iid:{iid}\")\n",
    "    \n",
    "    # Create sample\n",
    "    X = create_initial_sample(dim, sample_type = 'lhs', lower_bound = -5, upper_bound = 5)\n",
    "    y = X.apply(lambda x: problem(x), axis = 1)\n",
    "   \n",
    "    \n",
    "\n",
    "    # Classical ELA features\n",
    "    ela_meta = calculate_ela_meta(X, y)\n",
    "    ela_distr = calculate_ela_distribution(X, y)\n",
    "    ela_level = calculate_ela_level(X, y, ela_level_quantiles = [0.25,0.5], ela_level_resample_iterations = 5)\n",
    "\n",
    "    # Compute the remaining 3 feature sets from the classical ELA features which do require additional function evaluations\n",
    "    ela_local = calculate_ela_local(X, y, f = problem, dim = dim, lower_bound = -5, upper_bound = 5)\n",
    "    ela_curv = calculate_ela_curvate(X, y, f = problem, dim = dim, lower_bound = -5, upper_bound = 5)\n",
    "    ela_conv = calculate_ela_conv(X, y, f = problem)\n",
    "    \n",
    "    #Cell Mapping\n",
    "    # Compute cell mapping angle feature set from the convential ELA features\n",
    "    if(dim < 5):\n",
    "        cm_angle = calculate_cm_angle(X, y, blocks = 3, lower_bound = -5, upper_bound = 5)\n",
    "   \n",
    "    \n",
    "    \n",
    "    #Dispersion features\n",
    "    # Compute disp feature set from the convential ELA features\n",
    "    disp = calculate_dispersion(X, y)\n",
    "    \n",
    "    \n",
    "    #IC features\n",
    "    # Compute ic feature set from the convential ELA features\n",
    "    ic = calculate_information_content(X, y)\n",
    "    \n",
    "    #NBC features\n",
    "    nbc = calculate_nbc(X, y)\n",
    "    \n",
    "    #Miscellaneous features\n",
    "    #PCA features\n",
    "    pca = calculate_pca(X,y)\n",
    "    \n",
    "    \n",
    "    \n",
    "    # cm_conv = calculate_cm_conv(X,y, lower_bound = -5, upper_bound = 5)\n",
    "    # cm_grad = calculate_cm_grad(X,y, lower_bound = -5, upper_bound = 5)\n",
    "    # limo = calculate_limo(X,y,lower_bound = -5, upper_bound = 5)\n",
    " \n",
    "    data = pd.DataFrame({**{'fid': fid}, **{'dim': dim}, **{'iid': iid}, ** ela_meta,  **ela_distr, **ela_level, **ela_local, **ela_curv, **ela_conv, **disp, **ic, **nbc, **pca, **cm_angle}, index = [0])\n",
    "    if(fid ==1 and iid == 1 and dim ==2):\n",
    "        data.to_csv(\"data.csv\",encoding='utf-8', index=False)\n",
    "        print(data.shape)\n",
    "    features.append(data)\n",
    "\n",
    "#remove feature for dimensions with divide by zero error\n",
    "\n",
    "ela_df = pd.concat(features).reset_index(drop = True)\n",
    "print(f\"Final row count of DataFrame: {ela_df.shape[0]}\")\n",
    "file_name = \"features.csv\"\n",
    "ela_df.to_csv(file_name, encoding='utf-8', index=False)"
   ]
  },
  {
   "cell_type": "code",
   "execution_count": null,
   "id": "fa2bacd4-508f-4966-a726-43e0e40d7f33",
   "metadata": {},
   "outputs": [],
   "source": [
    "print(\"Done\")"
   ]
  },
  {
   "cell_type": "code",
   "execution_count": null,
   "id": "3ce20602-f88f-42bf-9c0f-29f7e3a79535",
   "metadata": {},
   "outputs": [],
   "source": []
  }
 ],
 "metadata": {
  "kernelspec": {
   "display_name": "Python 3 (ipykernel)",
   "language": "python",
   "name": "python3"
  },
  "language_info": {
   "codemirror_mode": {
    "name": "ipython",
    "version": 3
   },
   "file_extension": ".py",
   "mimetype": "text/x-python",
   "name": "python",
   "nbconvert_exporter": "python",
   "pygments_lexer": "ipython3",
   "version": "3.10.8"
  }
 },
 "nbformat": 4,
 "nbformat_minor": 5
}
