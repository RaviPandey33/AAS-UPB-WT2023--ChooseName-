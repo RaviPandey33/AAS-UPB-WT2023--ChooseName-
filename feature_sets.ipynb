{
 "cells": [
  {
   "cell_type": "code",
   "execution_count": 1,
   "id": "36f9dc0d-326b-4e53-be10-2bd707dcfd4d",
   "metadata": {},
   "outputs": [
    {
     "name": "stdout",
     "output_type": "stream",
     "text": [
      "Requirement already satisfied: pflacco in /opt/conda/lib/python3.10/site-packages (1.2.2)\n",
      "Requirement already satisfied: numpy~=1.24.3 in /opt/conda/lib/python3.10/site-packages (from pflacco) (1.24.4)\n",
      "Requirement already satisfied: scikit-learn~=1.2.2 in /opt/conda/lib/python3.10/site-packages (from pflacco) (1.2.2)\n",
      "Requirement already satisfied: pyDOE~=0.3.8 in /opt/conda/lib/python3.10/site-packages (from pflacco) (0.3.8)\n",
      "Requirement already satisfied: scipy~=1.10.1 in /opt/conda/lib/python3.10/site-packages (from pflacco) (1.10.1)\n",
      "Requirement already satisfied: pandas<2.1.0,>=1.2.1 in /opt/conda/lib/python3.10/site-packages (from pflacco) (2.0.3)\n",
      "Requirement already satisfied: numdifftools~=0.9.40 in /opt/conda/lib/python3.10/site-packages (from pflacco) (0.9.41)\n",
      "Requirement already satisfied: SALib~=1.4.5 in /opt/conda/lib/python3.10/site-packages (from pflacco) (1.4.7)\n",
      "Requirement already satisfied: python-dateutil>=2.8.2 in /opt/conda/lib/python3.10/site-packages (from pandas<2.1.0,>=1.2.1->pflacco) (2.8.2)\n",
      "Requirement already satisfied: pytz>=2020.1 in /opt/conda/lib/python3.10/site-packages (from pandas<2.1.0,>=1.2.1->pflacco) (2022.6)\n",
      "Requirement already satisfied: tzdata>=2022.1 in /opt/conda/lib/python3.10/site-packages (from pandas<2.1.0,>=1.2.1->pflacco) (2023.4)\n",
      "Requirement already satisfied: matplotlib>=3.2.2 in /opt/conda/lib/python3.10/site-packages (from SALib~=1.4.5->pflacco) (3.8.2)\n",
      "Requirement already satisfied: multiprocess in /opt/conda/lib/python3.10/site-packages (from SALib~=1.4.5->pflacco) (0.70.15)\n",
      "Requirement already satisfied: joblib>=1.1.1 in /opt/conda/lib/python3.10/site-packages (from scikit-learn~=1.2.2->pflacco) (1.3.2)\n",
      "Requirement already satisfied: threadpoolctl>=2.0.0 in /opt/conda/lib/python3.10/site-packages (from scikit-learn~=1.2.2->pflacco) (3.2.0)\n",
      "Requirement already satisfied: contourpy>=1.0.1 in /opt/conda/lib/python3.10/site-packages (from matplotlib>=3.2.2->SALib~=1.4.5->pflacco) (1.2.0)\n",
      "Requirement already satisfied: cycler>=0.10 in /opt/conda/lib/python3.10/site-packages (from matplotlib>=3.2.2->SALib~=1.4.5->pflacco) (0.12.1)\n",
      "Requirement already satisfied: fonttools>=4.22.0 in /opt/conda/lib/python3.10/site-packages (from matplotlib>=3.2.2->SALib~=1.4.5->pflacco) (4.47.0)\n",
      "Requirement already satisfied: kiwisolver>=1.3.1 in /opt/conda/lib/python3.10/site-packages (from matplotlib>=3.2.2->SALib~=1.4.5->pflacco) (1.4.5)\n",
      "Requirement already satisfied: packaging>=20.0 in /opt/conda/lib/python3.10/site-packages (from matplotlib>=3.2.2->SALib~=1.4.5->pflacco) (21.3)\n",
      "Requirement already satisfied: pillow>=8 in /opt/conda/lib/python3.10/site-packages (from matplotlib>=3.2.2->SALib~=1.4.5->pflacco) (10.0.0)\n",
      "Requirement already satisfied: pyparsing>=2.3.1 in /opt/conda/lib/python3.10/site-packages (from matplotlib>=3.2.2->SALib~=1.4.5->pflacco) (3.0.9)\n",
      "Requirement already satisfied: six>=1.5 in /opt/conda/lib/python3.10/site-packages (from python-dateutil>=2.8.2->pandas<2.1.0,>=1.2.1->pflacco) (1.16.0)\n",
      "Requirement already satisfied: dill>=0.3.7 in /opt/conda/lib/python3.10/site-packages (from multiprocess->SALib~=1.4.5->pflacco) (0.3.7)\n",
      "Note: you may need to restart the kernel to use updated packages.\n"
     ]
    }
   ],
   "source": [
    "pip install pflacco"
   ]
  },
  {
   "cell_type": "code",
   "execution_count": 2,
   "id": "064afacb-20f7-476c-a445-804ad64d7472",
   "metadata": {},
   "outputs": [
    {
     "name": "stdout",
     "output_type": "stream",
     "text": [
      "Requirement already satisfied: cocopp in /opt/conda/lib/python3.10/site-packages (2.6.3)\n",
      "Note: you may need to restart the kernel to use updated packages.\n"
     ]
    }
   ],
   "source": [
    "pip install cocopp"
   ]
  },
  {
   "cell_type": "code",
   "execution_count": 2,
   "id": "fdad8084-d40b-49cd-b403-5a5fe4e89eb0",
   "metadata": {},
   "outputs": [],
   "source": [
    "import cocoex\n",
    "from pflacco.sampling import create_initial_sample\n",
    "from pflacco.classical_ela_features import *\n",
    "import pandas as pd"
   ]
  },
  {
   "cell_type": "code",
   "execution_count": 4,
   "id": "3125aa2c-007b-4e5c-a301-3bd16e7d6c88",
   "metadata": {},
   "outputs": [
    {
     "name": "stdout",
     "output_type": "stream",
     "text": [
      "Suite(\"b'bbob'\", \"b'instances:1-5'\", \"b'function_indices:1-24 dimensions:5,10'\") with 240 problems in dimensions 5=10\n"
     ]
    }
   ],
   "source": [
    "BBOB2 = cocoex.Suite(\"bbob\", f\"instances:1-5\", f\"function_indices:1-24 dimensions:2,3,5,10\")\n",
    "print(BBOB2)"
   ]
  },
  {
   "cell_type": "code",
   "execution_count": 6,
   "id": "c732f848-0e4a-4e9a-bd13-dbad15e44df6",
   "metadata": {},
   "outputs": [
    {
     "name": "stdout",
     "output_type": "stream",
     "text": [
      "fid:1, dim:5, iid:1\n"
     ]
    },
    {
     "ename": "ValueError",
     "evalue": "The provided value for \"block\" is too large, resulting in less than 3 observations per cell.",
     "output_type": "error",
     "traceback": [
      "\u001b[0;31m---------------------------------------------------------------------------\u001b[0m",
      "\u001b[0;31mValueError\u001b[0m                                Traceback (most recent call last)",
      "Cell \u001b[0;32mIn[14], line 28\u001b[0m\n\u001b[1;32m     24\u001b[0m ela_conv \u001b[38;5;241m=\u001b[39m calculate_ela_conv(X, y, f \u001b[38;5;241m=\u001b[39m problem)\n\u001b[1;32m     26\u001b[0m \u001b[38;5;66;03m#Cell Mapping\u001b[39;00m\n\u001b[1;32m     27\u001b[0m \u001b[38;5;66;03m# Compute cell mapping angle feature set from the convential ELA features\u001b[39;00m\n\u001b[0;32m---> 28\u001b[0m cm_angle \u001b[38;5;241m=\u001b[39m \u001b[43mcalculate_cm_angle\u001b[49m\u001b[43m(\u001b[49m\u001b[43mX\u001b[49m\u001b[43m,\u001b[49m\u001b[43m \u001b[49m\u001b[43my\u001b[49m\u001b[43m,\u001b[49m\u001b[43m \u001b[49m\u001b[43mblocks\u001b[49m\u001b[43m \u001b[49m\u001b[38;5;241;43m=\u001b[39;49m\u001b[43m \u001b[49m\u001b[38;5;241;43m3\u001b[39;49m\u001b[43m,\u001b[49m\u001b[43m \u001b[49m\u001b[43mlower_bound\u001b[49m\u001b[43m \u001b[49m\u001b[38;5;241;43m=\u001b[39;49m\u001b[43m \u001b[49m\u001b[38;5;241;43m-\u001b[39;49m\u001b[38;5;241;43m5\u001b[39;49m\u001b[43m,\u001b[49m\u001b[43m \u001b[49m\u001b[43mupper_bound\u001b[49m\u001b[43m \u001b[49m\u001b[38;5;241;43m=\u001b[39;49m\u001b[43m \u001b[49m\u001b[38;5;241;43m5\u001b[39;49m\u001b[43m)\u001b[49m\n\u001b[1;32m     32\u001b[0m \u001b[38;5;66;03m#Dispersion features\u001b[39;00m\n\u001b[1;32m     33\u001b[0m \u001b[38;5;66;03m# Compute disp feature set from the convential ELA features\u001b[39;00m\n\u001b[1;32m     34\u001b[0m disp \u001b[38;5;241m=\u001b[39m calculate_dispersion(X, y)\n",
      "File \u001b[0;32m/opt/conda/lib/python3.10/site-packages/pflacco/classical_ela_features.py:893\u001b[0m, in \u001b[0;36mcalculate_cm_angle\u001b[0;34m(X, y, lower_bound, upper_bound, blocks, force, minimize)\u001b[0m\n\u001b[1;32m    890\u001b[0m X, y \u001b[38;5;241m=\u001b[39m _validate_variable_types(X, y)\n\u001b[1;32m    891\u001b[0m dim \u001b[38;5;241m=\u001b[39m X\u001b[38;5;241m.\u001b[39mshape[\u001b[38;5;241m1\u001b[39m]\n\u001b[0;32m--> 893\u001b[0m blocks \u001b[38;5;241m=\u001b[39m \u001b[43m_check_blocks_variable\u001b[49m\u001b[43m(\u001b[49m\u001b[43mX\u001b[49m\u001b[43m,\u001b[49m\u001b[43m \u001b[49m\u001b[43mdim\u001b[49m\u001b[43m,\u001b[49m\u001b[43m \u001b[49m\u001b[43mblocks\u001b[49m\u001b[43m,\u001b[49m\u001b[43m \u001b[49m\u001b[43mforce\u001b[49m\u001b[43m \u001b[49m\u001b[38;5;241;43m=\u001b[39;49m\u001b[43m \u001b[49m\u001b[43mforce\u001b[49m\u001b[43m)\u001b[49m\n\u001b[1;32m    894\u001b[0m \u001b[38;5;28;01mif\u001b[39;00m blocks\u001b[38;5;241m.\u001b[39mmin() \u001b[38;5;241m<\u001b[39m\u001b[38;5;241m=\u001b[39m \u001b[38;5;241m2\u001b[39m \u001b[38;5;129;01mand\u001b[39;00m force \u001b[38;5;241m==\u001b[39m \u001b[38;5;28;01mFalse\u001b[39;00m:\n\u001b[1;32m    895\u001b[0m       \u001b[38;5;28;01mraise\u001b[39;00m \u001b[38;5;167;01mValueError\u001b[39;00m(\u001b[38;5;124m'\u001b[39m\u001b[38;5;124mThe cell convexity features can only be computed when all dimensions have more than 2 cells.\u001b[39m\u001b[38;5;124m'\u001b[39m)\n",
      "File \u001b[0;32m/opt/conda/lib/python3.10/site-packages/pflacco/utils.py:76\u001b[0m, in \u001b[0;36m_check_blocks_variable\u001b[0;34m(X, dim, blocks, force)\u001b[0m\n\u001b[1;32m     74\u001b[0m \u001b[38;5;28;01mif\u001b[39;00m blocks \u001b[38;5;241m>\u001b[39m n_bl:\n\u001b[1;32m     75\u001b[0m       \u001b[38;5;28;01mif\u001b[39;00m force \u001b[38;5;241m==\u001b[39m \u001b[38;5;28;01mFalse\u001b[39;00m:\n\u001b[0;32m---> 76\u001b[0m             \u001b[38;5;28;01mraise\u001b[39;00m \u001b[38;5;167;01mValueError\u001b[39;00m(\u001b[38;5;124m'\u001b[39m\u001b[38;5;124mThe provided value for \u001b[39m\u001b[38;5;124m\"\u001b[39m\u001b[38;5;124mblock\u001b[39m\u001b[38;5;124m\"\u001b[39m\u001b[38;5;124m is too large, resulting in less than 3 observations per cell.\u001b[39m\u001b[38;5;124m'\u001b[39m)\n\u001b[1;32m     77\u001b[0m       \u001b[38;5;28;01melse\u001b[39;00m:\n\u001b[1;32m     78\u001b[0m             warnings\u001b[38;5;241m.\u001b[39mwarn(\u001b[38;5;124mf\u001b[39m\u001b[38;5;124m'\u001b[39m\u001b[38;5;124mFor the given dataframe X, the recommended maximum number of blocks per dim is \u001b[39m\u001b[38;5;132;01m{\u001b[39;00mn_bl\u001b[38;5;132;01m}\u001b[39;00m\u001b[38;5;124m. The current value for blocks (\u001b[39m\u001b[38;5;132;01m{\u001b[39;00mblocks\u001b[38;5;132;01m}\u001b[39;00m\u001b[38;5;124m) exceeds that.\u001b[39m\u001b[38;5;124m'\u001b[39m)\n",
      "\u001b[0;31mValueError\u001b[0m: The provided value for \"block\" is too large, resulting in less than 3 observations per cell."
     ]
    }
   ],
   "source": [
    "\n",
    "features = []\n",
    "\n",
    "for problem in BBOB2:\n",
    "    dim = problem.dimension\n",
    "    fid = problem.id_function\n",
    "    iid = problem.id_instance\n",
    "\n",
    "    print(f\"fid:{fid}, dim:{dim}, iid:{iid}\")\n",
    "    \n",
    "    # Create sample\n",
    "    X = create_initial_sample(dim, sample_type = 'lhs', lower_bound = -5, upper_bound = 5)\n",
    "    y = X.apply(lambda x: problem(x), axis = 1)\n",
    "   \n",
    "    \n",
    "\n",
    "    # Classical ELA features\n",
    "    ela_meta = calculate_ela_meta(X, y)\n",
    "    ela_distr = calculate_ela_distribution(X, y)\n",
    "    ela_level = calculate_ela_level(X, y, ela_level_resample_iterations = 3)\n",
    "\n",
    "    # Compute the remaining 3 feature sets from the classical ELA features which do require additional function evaluations\n",
    "    ela_local = calculate_ela_local(X, y, f = problem, dim = dim, lower_bound = -5, upper_bound = 5)\n",
    "    ela_curv = calculate_ela_curvate(X, y, f = problem, dim = dim, lower_bound = -5, upper_bound = 5)\n",
    "    ela_conv = calculate_ela_conv(X, y, f = problem)\n",
    "    \n",
    "    #Cell Mapping\n",
    "    # Compute cell mapping angle feature set from the convential ELA features\n",
    "    if(dim < 5):\n",
    "        cm_angle = calculate_cm_angle(X, y, blocks = 3, lower_bound = -5, upper_bound = 5)\n",
    "   \n",
    "    \n",
    "    \n",
    "    #Dispersion features\n",
    "    # Compute disp feature set from the convential ELA features\n",
    "    disp = calculate_dispersion(X, y)\n",
    "    \n",
    "    \n",
    "    #IC features\n",
    "    # Compute ic feature set from the convential ELA features\n",
    "    ic = calculate_information_content(X, y)\n",
    "    \n",
    "    #NBC features\n",
    "    nbc = calculate_nbc(X, y)\n",
    "    \n",
    "    #Miscellaneous features\n",
    "    #PCA features\n",
    "    pca = calculate_pca(X,y)\n",
    "    \n",
    "    \n",
    "    \n",
    "    # cm_conv = calculate_cm_conv(X,y, lower_bound = -5, upper_bound = 5)\n",
    "    # cm_grad = calculate_cm_grad(X,y, lower_bound = -5, upper_bound = 5)\n",
    "    # limo = calculate_limo(X,y,lower_bound = -5, upper_bound = 5)\n",
    " \n",
    "    data = pd.DataFrame({**{'fid': fid}, **{'dim': dim}, **{'iid': iid}, ** ela_meta,  **ela_distr, **ela_level, **ela_local, **ela_curv, **ela_conv, **disp, **ic, **nbc, **pca, **cm_angle}, index = [0])\n",
    "    if(fid ==1 and iid == 1 and dim ==2):\n",
    "        data.to_csv(\"data.csv\",encoding='utf-8', index=False)\n",
    "        print(data.shape)\n",
    "    features.append(data)\n",
    "\n",
    "#remove feature for dimensions with divide by zero error\n",
    "\n",
    "ela_df = pd.concat(features).reset_index(drop = True)\n",
    "print(f\"Final row count of DataFrame: {ela_df.shape[0]}\")\n",
    "file_name = \"features.csv\"\n",
    "ela_df.to_csv(file_name, encoding='utf-8', index=False)"
   ]
  },
  {
   "cell_type": "code",
   "execution_count": null,
   "id": "fa2bacd4-508f-4966-a726-43e0e40d7f33",
   "metadata": {},
   "outputs": [],
   "source": [
    "print(\"Done\")"
   ]
  },
  {
   "cell_type": "code",
   "execution_count": 15,
   "id": "3ce20602-f88f-42bf-9c0f-29f7e3a79535",
   "metadata": {},
   "outputs": [],
   "source": [
    "# Replace 'your_features.csv' with the actual path to your CSV file\n",
    "file_path = 'features.csv'\n",
    "\n",
    "# Load CSV into pandas DataFrame\n",
    "df = pd.read_csv(file_path)\n",
    "\n",
    "\n",
    "# Extract columns for which you want to calculate the median\n",
    "columns_to_calculate_median = df.columns.difference(['fid', 'dim'])\n",
    "\n",
    "# Define a custom median function to handle infinite values and empty slices\n",
    "def custom_median(series):\n",
    "    # Exclude NaN and infinite values\n",
    "    valid_values = series.replace([np.inf, -np.inf], np.nan).dropna()\n",
    "    \n",
    "    # Check if there are valid values to calculate the median\n",
    "    if len(valid_values) == 0:\n",
    "        return np.nan\n",
    "    \n",
    "    return np.median(valid_values)\n",
    "\n",
    "\n",
    "# Specify the cm_angle columns for which you want to calculate the mean\n",
    "cm_angle_columns = [\n",
    "    'cm_angle.angle_mean',\n",
    "    'cm_angle.angle_sd',\n",
    "    'cm_angle.costs_runtime',\n",
    "    'cm_angle.dist_ctr2best_mean',\n",
    "    'cm_angle.dist_ctr2best_sd',\n",
    "    'cm_angle.dist_ctr2worst_mean',\n",
    "    'cm_angle.dist_ctr2worst_sd',\n",
    "    'cm_angle.y_ratio_best2worst_mean',\n",
    "    'cm_angle.y_ratio_best2worst_sd'\n",
    "]\n",
    "\n",
    "# Group by fid, calculate the mean for selected cm_angle columns with dims 2 and 3\n",
    "mean_values = result[result['dim'].isin([2, 3])].groupby(['fid'])[cm_angle_columns].mean()\n",
    "\n",
    "# Create a new DataFrame with the mean values\n",
    "mean_df = pd.DataFrame(mean_values).reset_index()\n",
    "mean_df.columns = ['fid'] + [f'{col}_mean' for col in cm_angle_columns]\n",
    "\n",
    "# Merge the mean_df with the original result DataFrame on fid\n",
    "result = pd.merge(result, mean_df, on='fid', how='left')\n",
    "\n",
    "# Update the values for dim 5 and 10 with the calculated means\n",
    "for col in cm_angle_columns:\n",
    "    result.loc[result['dim'].isin([5, 10]), col] = result[f'{col}_mean']\n",
    "\n",
    "# Drop the unnecessary columns\n",
    "result = result.drop([f'{col}_mean' for col in cm_angle_columns], axis=1)\n",
    "\n",
    "\n",
    "\n",
    "\n",
    "file_name = 'median_features.csv'\n",
    "result.to_csv(file_name, encoding='utf-8', index=False)\n",
    "\n",
    "\n",
    "\n"
   ]
  },
  {
   "cell_type": "code",
   "execution_count": null,
   "id": "7bd1a972-9935-4025-b401-a16c8b287b62",
   "metadata": {},
   "outputs": [],
   "source": []
  },
  {
   "cell_type": "code",
   "execution_count": null,
   "id": "07f30ab4-8a77-4c79-936e-52db32dfa12b",
   "metadata": {},
   "outputs": [],
   "source": []
  }
 ],
 "metadata": {
  "kernelspec": {
   "display_name": "Python 3 (ipykernel)",
   "language": "python",
   "name": "python3"
  },
  "language_info": {
   "codemirror_mode": {
    "name": "ipython",
    "version": 3
   },
   "file_extension": ".py",
   "mimetype": "text/x-python",
   "name": "python",
   "nbconvert_exporter": "python",
   "pygments_lexer": "ipython3",
   "version": "3.10.8"
  }
 },
 "nbformat": 4,
 "nbformat_minor": 5
}
